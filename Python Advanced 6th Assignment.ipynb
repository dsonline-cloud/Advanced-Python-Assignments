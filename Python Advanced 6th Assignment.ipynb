{
 "cells": [
  {
   "cell_type": "markdown",
   "id": "d3f14f25",
   "metadata": {},
   "source": [
    "**Question No.1** Describe three applications for exception processing."
   ]
  },
  {
   "cell_type": "markdown",
   "id": "943f512e",
   "metadata": {},
   "source": [
    "**Ans** \n",
    "\n",
    "The three applications for exception processing are as follows:\n",
    "1. Error handling- Python raises exceptions whenever it detects errors in programs at runtime. You can catch and respond to the errors in your code, or ignore the exceptions that are raised.\n",
    "2. Termination actions- As you’ll see, the try/finally statement allows you to guarantee that required closing time operations will be performed, regardless of the presence or absence of exceptions in your programs.  \n",
    "3. Event notification- Exceptions can also be used to signal valid conditions without you having to pass result flags around a program or test them explicitly. "
   ]
  },
  {
   "cell_type": "markdown",
   "id": "9cc412cc",
   "metadata": {},
   "source": [
    "**Question No.2** What happens if you do not do something extra to treat an exception?"
   ]
  },
  {
   "cell_type": "markdown",
   "id": "862506d1",
   "metadata": {},
   "source": [
    "**Ans**\n",
    "\n",
    "Any uncaught exception eventually filters up to the default exception handler Python provides at the top of your program. This handler prints the familiar error message and shuts down your program."
   ]
  },
  {
   "cell_type": "markdown",
   "id": "4df05635",
   "metadata": {},
   "source": [
    "**Question No.3** What are your options for recovering from an exception in your script?"
   ]
  },
  {
   "cell_type": "markdown",
   "id": "8704ecd6",
   "metadata": {},
   "source": [
    "**Ans**\n",
    "\n",
    "If you don’t want the default message and shutdown, you can code try/except statements to catch and recover from exceptions that are raised within its nested code block. Once an exception is caught, the exception is terminated and your program continues after the try."
   ]
  },
  {
   "cell_type": "markdown",
   "id": "5e1f2a97",
   "metadata": {},
   "source": [
    "**Question No.4** Describe two methods for triggering exceptions in your script?"
   ]
  },
  {
   "cell_type": "markdown",
   "id": "a3142545",
   "metadata": {},
   "source": [
    "**Ans**\n",
    "\n",
    "The raise and assert statements can be used to trigger an exception, exactly as if it had been raised by Python itself. In principle, you can also raise an exception by making a programming mistake, but that’s not usually an explicit goal."
   ]
  },
  {
   "cell_type": "markdown",
   "id": "e660f2fa",
   "metadata": {},
   "source": [
    "**Question No.5** Identify two methods for specifying actions to be executed at termination time, regardless of whether or not an exception exists."
   ]
  },
  {
   "cell_type": "markdown",
   "id": "670d06c0",
   "metadata": {},
   "source": [
    "**Ans**\n",
    "\n",
    "The try/finally statement can be used to ensure actions are run after a block of code exits, regardless of whether the block raises an exception or not. The with/as statement can also be used to ensure termination actions are run, but only when\n",
    "processing object types that support it."
   ]
  }
 ],
 "metadata": {
  "kernelspec": {
   "display_name": "Python 3",
   "language": "python",
   "name": "python3"
  },
  "language_info": {
   "codemirror_mode": {
    "name": "ipython",
    "version": 3
   },
   "file_extension": ".py",
   "mimetype": "text/x-python",
   "name": "python",
   "nbconvert_exporter": "python",
   "pygments_lexer": "ipython3",
   "version": "3.8.8"
  }
 },
 "nbformat": 4,
 "nbformat_minor": 5
}
