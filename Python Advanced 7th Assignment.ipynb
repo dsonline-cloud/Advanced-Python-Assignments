{
 "cells": [
  {
   "cell_type": "markdown",
   "id": "a67caea0",
   "metadata": {},
   "source": [
    "**Question No.1** What is the purpose of the try statement?"
   ]
  },
  {
   "cell_type": "markdown",
   "id": "1fe7c524",
   "metadata": {},
   "source": [
    "**Ans** \n",
    "\n",
    "The purpose of try statement is to catch and recovers from exceptions. it specifies a block of code to run, and one or more handlers for exceptions that may be raised during the block’s execution."
   ]
  },
  {
   "cell_type": "markdown",
   "id": "70075951",
   "metadata": {},
   "source": [
    "**Question No.2** What are the two most popular try statement variations?"
   ]
  },
  {
   "cell_type": "markdown",
   "id": "4755306f",
   "metadata": {},
   "source": [
    "**Ans**\n",
    "\n",
    "The two common variations on the try statement are as follows:\n",
    "1. try/except/else (for catching exceptions) \n",
    "2. try/finally (for specifying cleanup actions that must occur whether an exception is raised or not)."
   ]
  },
  {
   "cell_type": "markdown",
   "id": "c4a76e9a",
   "metadata": {},
   "source": [
    "**Question No.3** What is the purpose of the raise statement?"
   ]
  },
  {
   "cell_type": "markdown",
   "id": "2a9874e0",
   "metadata": {},
   "source": [
    "**Ans** \n",
    "\n",
    "The raise statement raises (triggers) an exception. Python raises built-in exceptions on errors internally, but your scripts can trigger built-in or user-defined exceptions with raise, too."
   ]
  },
  {
   "cell_type": "markdown",
   "id": "b864dba9",
   "metadata": {},
   "source": [
    "**Question No.4** What does the assert statement do, and what other statement is it like?"
   ]
  },
  {
   "cell_type": "markdown",
   "id": "de142988",
   "metadata": {},
   "source": [
    "**Ans** \n",
    "\n",
    "The assert statement raises an AssertionError exception if a condition is false. It works like a conditional raise statement wrapped up in an if statement, and can be disabled with a –O switch.\n"
   ]
  },
  {
   "cell_type": "markdown",
   "id": "092a862f",
   "metadata": {},
   "source": [
    "**Question No.5** What is the purpose of the with/as argument, and what other statement is it like?"
   ]
  },
  {
   "cell_type": "markdown",
   "id": "a80cc8c9",
   "metadata": {},
   "source": [
    "**Ans**\n",
    "\n",
    "The with/as statement is designed to automate startup and termination activities that must occur around a block of code. It is roughly like a try/finally statement in that its exit actions run whether an exception occurred or not, but it allows a\n",
    "richer object-based protocol for specifying entry and exit actions, and may reduce code size. Still, it’s not quite as general, as it applies only to objects that support its protocol; try handles many more use cases"
   ]
  }
 ],
 "metadata": {
  "kernelspec": {
   "display_name": "Python 3",
   "language": "python",
   "name": "python3"
  },
  "language_info": {
   "codemirror_mode": {
    "name": "ipython",
    "version": 3
   },
   "file_extension": ".py",
   "mimetype": "text/x-python",
   "name": "python",
   "nbconvert_exporter": "python",
   "pygments_lexer": "ipython3",
   "version": "3.8.8"
  }
 },
 "nbformat": 4,
 "nbformat_minor": 5
}
