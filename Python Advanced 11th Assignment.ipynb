{
 "cells": [
  {
   "cell_type": "markdown",
   "id": "975e3c2c",
   "metadata": {},
   "source": [
    "**Question No.1** What is the concept of a metaclass?"
   ]
  },
  {
   "cell_type": "markdown",
   "id": "b4fae77b",
   "metadata": {},
   "source": [
    "**Ans**\n",
    "\n",
    "A metaclass is a class used to create a class. Normal new-style classes are instances of the type class by default. Metaclasses are usually subclasses of the type class, which redefines class creation protocol methods in order to customize the class\n",
    "creation call issued at the end of a class statement; they typically redefine the methods __new__ and __init__ to tap into the class creation protocol. Metaclasses can also be coded other ways as simple functions, for example but they are\n",
    "always responsible for making and returning an object for the new class. Metaclasses may have methods and data to provide behavior for their classes too and constitute a secondary pathway for inheritance search but their attributes are\n",
    "accessible only to their class instances, not to their instance’s instances."
   ]
  },
  {
   "cell_type": "markdown",
   "id": "b58bd55d",
   "metadata": {},
   "source": [
    "**Question No.2** What is the best way to declare a class's metaclass?"
   ]
  },
  {
   "cell_type": "markdown",
   "id": "83846599",
   "metadata": {},
   "source": [
    "**Ans**\n",
    "\n",
    "In Python 3.X, use a keyword argument in the class header line: class C(meta class=M). In 3.X, the class header line can also name normal superclasses before the metaclass keyword argument."
   ]
  },
  {
   "cell_type": "markdown",
   "id": "d09f6f2a",
   "metadata": {},
   "source": [
    "**Question No.3** How do class decorators overlap with metaclasses for handling classes?"
   ]
  },
  {
   "cell_type": "markdown",
   "id": "90113e42",
   "metadata": {},
   "source": [
    "**Ans**\n",
    "\n",
    "Class decorators and metaclasses both can be used to manage classes. Decorators rebind a class name to a callable’s result and metaclasses route class creation through a callable, but both tools can be used for similar purposes. To manage classes, decorators simply augment and return the original class objects. Metaclasses augment a class after they create it. Decorators may have a slight disadvantage in this role if a new class must be defined, because the original class has already been\n",
    "created."
   ]
  },
  {
   "cell_type": "markdown",
   "id": "fcd91f20",
   "metadata": {},
   "source": [
    "**Question No.4** How do class decorators overlap with metaclasses for handling instances?"
   ]
  },
  {
   "cell_type": "markdown",
   "id": "47b73550",
   "metadata": {},
   "source": [
    "**Ans**\n",
    "\n",
    "Both are automatically triggered at the end of a class statement, we can use both class decorators and metaclasses to manage class instances, by inserting a wrapper (proxy) object to catch instance creation calls. Decorators may rebind\n",
    "the class name to a callable run on instance creation that retains the original class object. Metaclasses can do the same, but may have a slight disadvantage in this role, because they must also create the class object."
   ]
  }
 ],
 "metadata": {
  "kernelspec": {
   "display_name": "Python 3",
   "language": "python",
   "name": "python3"
  },
  "language_info": {
   "codemirror_mode": {
    "name": "ipython",
    "version": 3
   },
   "file_extension": ".py",
   "mimetype": "text/x-python",
   "name": "python",
   "nbconvert_exporter": "python",
   "pygments_lexer": "ipython3",
   "version": "3.8.8"
  }
 },
 "nbformat": 4,
 "nbformat_minor": 5
}
