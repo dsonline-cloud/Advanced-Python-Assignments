{
 "cells": [
  {
   "cell_type": "markdown",
   "metadata": {},
   "source": [
    "**Question No.1** What is the relationship between classes and modules?"
   ]
  },
  {
   "cell_type": "markdown",
   "metadata": {},
   "source": [
    "**Answer**\n",
    "\n",
    "Module in python is simply a way to organize the code, and it contains either python classes or just functions. If you need those classes or functions in your project, you just import them."
   ]
  },
  {
   "cell_type": "markdown",
   "metadata": {},
   "source": [
    "**Question No.2** How do you make instances and classes?"
   ]
  },
  {
   "cell_type": "markdown",
   "metadata": {},
   "source": [
    "**Answer**\n",
    "\n",
    "1. Like we define function with the def keyword in Python, class is defined with a class keyword.\n",
    "\n",
    "The first string inside the class is called docstring and has a brief description about the class. Although not mandatory, this is highly recommended.\n",
    "\n",
    "Here is a simple class definition.\n",
    "\n",
    "class MyFirstClass:\n",
    "    '''This is a docstring. I have created a new class'''\n",
    "    pass\n",
    "    \n",
    "2. To create instances of a class, you call the class using class name and pass in whatever arguments its __init__ method accepts.\n",
    "\n",
    "\"This would create first object of Employee class\"\n",
    "emp1 = Employee(\"Deepak\", 21000)\n",
    "\"This would create second object of Employee class\"\n",
    "emp2 = Employee(\"Harmanjot\", 50000)    "
   ]
  },
  {
   "cell_type": "markdown",
   "metadata": {},
   "source": [
    "**Question No.3** Where and how should be class attributes created?"
   ]
  },
  {
   "cell_type": "code",
   "execution_count": null,
   "metadata": {},
   "outputs": [],
   "source": [
    "# **Answer**\n",
    "\n",
    "# Class attributes belong to the class itself they will be shared by all the instances. \n",
    "# Such attributes are defined in the class body parts usually at the top, for legibility.\n",
    "\n",
    "\n",
    "# Write Python code here\n",
    "class sampleclass:\n",
    "    count = 0     #All four of these are class attributes.\n",
    "    age = 20\n",
    "    car = \"BMW\"\n",
    "    Bus = \"Electric\""
   ]
  },
  {
   "cell_type": "markdown",
   "metadata": {},
   "source": [
    "**Question No.4** Where and how are instance attributes created?"
   ]
  },
  {
   "cell_type": "markdown",
   "metadata": {},
   "source": [
    "**Answer**\n",
    "\n",
    "An instance attribute is a Python variable belonging to one, and only one, object. This variable is only accessible in the scope of this object and it is defined inside the constructor function, __init__(self,..) of the class or in simple words you can say that instance attributes are owned by one specific instance of the class only, and ​are not shared between instances\n",
    "\n",
    "class ExampleClass(object):\n",
    "  class_attr = 0\n",
    "\n",
    "  def __init__(self, instance_attr):\n",
    "    self.instance_attr = instance_attr"
   ]
  },
  {
   "cell_type": "markdown",
   "metadata": {},
   "source": [
    "**Question No.5** What does the term \"self\" in a Python class mean?"
   ]
  },
  {
   "cell_type": "markdown",
   "metadata": {},
   "source": [
    "**Answer**\n",
    "\n",
    "The self is used to represent the instance of the class. With this keyword, you can access the attributes and methods of the class in python. It binds the attributes with the given arguments."
   ]
  },
  {
   "cell_type": "markdown",
   "metadata": {},
   "source": [
    "**Question No.6** How does a Python class handle operator overloading?"
   ]
  },
  {
   "cell_type": "code",
   "execution_count": 13,
   "metadata": {
    "scrolled": true
   },
   "outputs": [
    {
     "name": "stdout",
     "output_type": "stream",
     "text": [
      "261\n"
     ]
    }
   ],
   "source": [
    "# **Answer**\n",
    "\n",
    "#If we want to use operators to add, subtract or perform any other calculations on objects of class \n",
    "# then we need to do the operator overloading in class \n",
    "# which means we will define the method of the operator in the class to perform the operators functios on the class instances or objects. \n",
    "# Class handles operator in following ways  as mentioned below.\n",
    "\n",
    "class Student:\n",
    "\n",
    "    def __init__(self,m1,m2):\n",
    "        self.m1 = m1\n",
    "        self.m2 = m2\n",
    "\n",
    "    def __add__(self, other):\n",
    "        m1 = self.m1 + other.m1\n",
    "        m2 = self.m2 + other.m2\n",
    "        \n",
    "        return m1+m2\n",
    "        \n",
    "\n",
    "    \n",
    "\n",
    "\n",
    "s1 = Student(58,69)\n",
    "s2 = Student(69,65)\n",
    "\n",
    "s3 = s1 + s2\n",
    "\n",
    "print(s3)"
   ]
  },
  {
   "cell_type": "markdown",
   "metadata": {},
   "source": [
    "**Question No.7** When do you consider allowing operator overloading of your classes?"
   ]
  },
  {
   "cell_type": "markdown",
   "metadata": {},
   "source": [
    " **Answer**\n",
    " \n",
    "Python supports operator overloading. With operator overloading, we are able to change the meaning of a Python operator within the scope of a class. Whenever we need a specific operation to be performed in the classes we allow the overloading of our classes which can vary according the need of the operations. We allow it when we need to perform operation in classes like adding two classes which are not possible without operator overloading."
   ]
  },
  {
   "cell_type": "markdown",
   "metadata": {},
   "source": [
    "**Question No.8** What is the most popular form of operator overloading?"
   ]
  },
  {
   "cell_type": "code",
   "execution_count": 2,
   "metadata": {},
   "outputs": [
    {
     "name": "stdout",
     "output_type": "stream",
     "text": [
      "(29, 101)\n"
     ]
    }
   ],
   "source": [
    "# **Answer**\n",
    "\n",
    "# In object-oriented programming, there is a concept called “Polymorphism”. Polymorphism means “one action, many forms”.\n",
    "# OOP allows objects to perform a single action in different ways. One way of implementing Polymorphism is through operator overloading.\n",
    "# To change how any function behaves, we defined a special method in our class and this is the most popular form of operator overloading.\n",
    "\n",
    "# For Ex :\n",
    "class complex:\n",
    "    def __init__(self, a, b):\n",
    "        self.a = a\n",
    "        self.b = b\n",
    "  \n",
    "     # adding two objects \n",
    "    def __add__(self, other):\n",
    "        return self.a + other.a, self.b + other.b\n",
    "  \n",
    "    def __str__(self):\n",
    "        return self.a, self.b\n",
    "  \n",
    "\n",
    "Ob1 = complex(10, 7)\n",
    "Ob2 = complex(19, 94)\n",
    "Ob3 = Ob1 + Ob2\n",
    "print(Ob3)"
   ]
  },
  {
   "cell_type": "code",
   "execution_count": null,
   "metadata": {},
   "outputs": [],
   "source": [
    "**Question No.9** What are the two most important concepts to grasp in order to comprehend Python OOP code?"
   ]
  },
  {
   "cell_type": "code",
   "execution_count": 5,
   "metadata": {},
   "outputs": [
    {
     "name": "stdout",
     "output_type": "stream",
     "text": [
      "<__main__.Books object at 0x0000024E08855B80>\n"
     ]
    }
   ],
   "source": [
    "# **Answer**\n",
    "# The two most important concepts in OOPs programming is Class and Object without understanding both of them we cann't \n",
    "# comprehend the OOP code.\n",
    "\n",
    "# A class is a collection of objects. Unlike the primitive data structures, classes are data structures that the user defines. \n",
    "# They make the code more manageable.\n",
    "# For Ex: \n",
    "class Books:\n",
    "    pass\n",
    "\n",
    "# When we define a class only the description or a blueprint of the object is created. \n",
    "# There is no memory allocation until we create its object. The objector instance contains real data or information.\n",
    "# Instantiation is nothing but creating a new object/instance of a class.\n",
    "# For Ex:\n",
    "obj1 = Books()\n",
    "print(obj1)"
   ]
  }
 ],
 "metadata": {
  "kernelspec": {
   "display_name": "Python 3",
   "language": "python",
   "name": "python3"
  },
  "language_info": {
   "codemirror_mode": {
    "name": "ipython",
    "version": 3
   },
   "file_extension": ".py",
   "mimetype": "text/x-python",
   "name": "python",
   "nbconvert_exporter": "python",
   "pygments_lexer": "ipython3",
   "version": "3.8.5"
  }
 },
 "nbformat": 4,
 "nbformat_minor": 4
}
