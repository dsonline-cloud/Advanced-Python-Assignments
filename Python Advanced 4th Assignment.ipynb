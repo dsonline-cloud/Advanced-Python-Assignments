{
 "cells": [
  {
   "cell_type": "markdown",
   "id": "b25f579f",
   "metadata": {},
   "source": [
    "**Question No.1** Which two operator overloading methods can you use in your classes to support iteration?"
   ]
  },
  {
   "cell_type": "markdown",
   "id": "821dba5a",
   "metadata": {},
   "source": [
    "**Ans**\n",
    "\n",
    "Classes can support iteration by defining (or inheriting) __getitem__ or __iter__. In all iteration contexts, Python tries to use __iter__ first, which returns an object that supports the iteration protocol with a __next__ method: if no __iter__ is found by inheritance search, Python falls back on the __getitem__ indexing method, which is called repeatedly, with successively higher indexes. If used, the yield statement can create the __next__ method automatically"
   ]
  },
  {
   "cell_type": "markdown",
   "id": "732359ce",
   "metadata": {},
   "source": [
    "**Question No.2** In what contexts do the two operator overloading methods manage printing?"
   ]
  },
  {
   "cell_type": "markdown",
   "id": "5629e83f",
   "metadata": {},
   "source": [
    "**Ans**\n",
    "\n",
    "The __str__ and __repr__ methods implement object print displays. The  __str__ is called by the print and str built-in functions,  __repr__ is used in all other contexts: for interactive echoes, the repr function, and nested appearances, as well as by print and str if no __str__ is present.. That is, __repr__ is used everywhere, except by print and str when a __str__ is defined. A __str__ is usually used for user friendly displays; __repr__ gives extra details or the object’s as code form."
   ]
  },
  {
   "cell_type": "markdown",
   "id": "a4895e92",
   "metadata": {},
   "source": [
    "**Question No.3** In a class, how do you intercept slice operations?"
   ]
  },
  {
   "cell_type": "markdown",
   "id": "8579ac6f",
   "metadata": {},
   "source": [
    "**Ans**\n",
    "\n",
    "Slicing is caught by the __getitem__ indexing method: it is called with a slice object, instead of a simple integer index, and slice objects may be passed on or inspected as needed. "
   ]
  },
  {
   "cell_type": "markdown",
   "id": "6876ab4c",
   "metadata": {},
   "source": [
    "**Question No.4** In a class, how do you capture in-place addition?"
   ]
  },
  {
   "cell_type": "markdown",
   "id": "94b60f2f",
   "metadata": {},
   "source": [
    "**Ans**\n",
    "\n",
    "In-place addition tries __iadd__ first, and __add__ with an assignment second. The same pattern holds true for all binary operators. The __radd__ method is also available for right side addition"
   ]
  },
  {
   "cell_type": "markdown",
   "id": "c48d351f",
   "metadata": {},
   "source": [
    "**Question No.5** When is it appropriate to use operator overloading?"
   ]
  },
  {
   "cell_type": "markdown",
   "id": "63100b60",
   "metadata": {},
   "source": [
    "**Ans**\n",
    "\n",
    "When a class naturally matches, or needs to emulate, a built-in type’s interfaces. You generally shouldn’t implement expression operators if they don’t naturally map to your objects naturally and logically, use normally named methods instead."
   ]
  }
 ],
 "metadata": {
  "kernelspec": {
   "display_name": "Python 3",
   "language": "python",
   "name": "python3"
  },
  "language_info": {
   "codemirror_mode": {
    "name": "ipython",
    "version": 3
   },
   "file_extension": ".py",
   "mimetype": "text/x-python",
   "name": "python",
   "nbconvert_exporter": "python",
   "pygments_lexer": "ipython3",
   "version": "3.8.8"
  }
 },
 "nbformat": 4,
 "nbformat_minor": 5
}
