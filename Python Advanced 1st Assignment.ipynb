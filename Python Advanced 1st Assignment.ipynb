{
 "cells": [
  {
   "cell_type": "markdown",
   "metadata": {},
   "source": [
    "**Question No.1** What is the purpose of Python's OOP?"
   ]
  },
  {
   "cell_type": "markdown",
   "metadata": {},
   "source": [
    "**Answer**\n",
    "\n",
    "Object-oriented programming(OOP) is a programming that provides a means of structuring programs so that properties and behaviors are bundled into individual objects. It helps in making a single class used multiple times which can contain the multiple methods and attributes. In this case we don't need to write the code again and again.\n",
    "\n",
    "For instance, an object could represent a car with properties like a model, mileage, and color and performances such as speed and pickup. Or it could represent an email with properties like a recipient list, subject, and body and behaviors like adding attachments and sending."
   ]
  },
  {
   "cell_type": "markdown",
   "metadata": {},
   "source": [
    "**Question No.2** Where does an inheritance search look for an attribute?"
   ]
  },
  {
   "cell_type": "markdown",
   "metadata": {},
   "source": [
    "**Answer**\n",
    "\n",
    "Every time you use an expression of the form object.attribute where object is an instance or class object, Python searches the namespace tree at and above object, for the first attribute it can find. Because lower definitions in the tree override higher ones, inheritance forms the basis of specialization."
   ]
  },
  {
   "cell_type": "markdown",
   "metadata": {},
   "source": [
    "**Question No.3** How do you distinguish between a class object and an instance object?"
   ]
  },
  {
   "cell_type": "code",
   "execution_count": 7,
   "metadata": {},
   "outputs": [
    {
     "name": "stdout",
     "output_type": "stream",
     "text": [
      "Black or White\n"
     ]
    }
   ],
   "source": [
    "# **Answer**\n",
    "\n",
    "# An object is simply a collection of data (variables) and methods (functions) that act on those data. \n",
    "# In case of a class it is a blueprint for that object. \n",
    "# Class is a “template” / “blueprint” that is used to create objects. Basically, \n",
    "# a class will consists of field, static field, method, static method and constructor \n",
    "# whenever we have created a class the class object is also created and we can access it by name of the class. \n",
    "# An instance is a unique copy of a Class that representing an Object. \n",
    "# Basically instance object is created when we assign the class to variable.\n",
    "\n",
    "# for ex-\n",
    "\n",
    "class car:\n",
    "    color= \"Black or White\" #it's a variable.\n",
    "\n",
    "    \n",
    "print(car.color)   #Car is class object. \n",
    "test= car() #It's an instance object.\n",
    "# test.color"
   ]
  },
  {
   "cell_type": "markdown",
   "metadata": {},
   "source": [
    "**Question No.4** What makes the first argument in a class’s method function special?"
   ]
  },
  {
   "cell_type": "markdown",
   "metadata": {},
   "source": [
    "**Answer**\n",
    "\n",
    "When a def appears inside a class, it is usually known as a method. Method automatically receives a special first argument, self, that provides a handle back to the instance to be processed, self acts like a pointer."
   ]
  },
  {
   "cell_type": "markdown",
   "metadata": {},
   "source": [
    "**Question No.5** What is the purpose of the __init__ method?"
   ]
  },
  {
   "cell_type": "markdown",
   "metadata": {},
   "source": [
    "**Answer**\n",
    "\n",
    "__init__ is reserved method in Python. In object oriented programming, it is known as a constructor. The __init__ method can be called when an object is created from the class, and access is required to initialize the attributes of the class."
   ]
  },
  {
   "cell_type": "markdown",
   "metadata": {},
   "source": [
    "**Question No.6** What is the process for creating a class instance?"
   ]
  },
  {
   "cell_type": "code",
   "execution_count": null,
   "metadata": {},
   "outputs": [],
   "source": [
    "#**Answer**\n",
    "\n",
    "class Dog:\n",
    "     \n",
    "    # A simple class attribute\n",
    "    attr1 = \"mammal\"\n",
    "    attr2 = \"dog\"\n",
    " \n",
    "    # A sample method \n",
    "    def fun(self):\n",
    "        print(\"I'm a\", self.attr1)\n",
    "        print(\"I'm a\", self.attr2)\n",
    " \n",
    "# Object instantiation\n",
    "Rodger = Dog()"
   ]
  },
  {
   "cell_type": "markdown",
   "metadata": {},
   "source": [
    "**Question No.7** What is the process for creating a class?"
   ]
  },
  {
   "cell_type": "markdown",
   "metadata": {},
   "source": [
    "**Answer**\n",
    "\n",
    "Class is created by using the keyword class and it can have attributes, methods and variables. The simplest class can be created using the class keyword. For example, let's create a simple, empty class with no functionalities.\n",
    "\n",
    "class Snake:\n",
    "    pass\n",
    "    \n",
    "snake = Snake()"
   ]
  },
  {
   "cell_type": "markdown",
   "metadata": {},
   "source": [
    "**Question No.8** How would you define the superclasses of a class?"
   ]
  },
  {
   "cell_type": "markdown",
   "metadata": {},
   "source": [
    "**Answer**\n",
    "\n",
    "The class from which a class inherits is called the parent or superclass."
   ]
  }
 ],
 "metadata": {
  "kernelspec": {
   "display_name": "Python 3",
   "language": "python",
   "name": "python3"
  },
  "language_info": {
   "codemirror_mode": {
    "name": "ipython",
    "version": 3
   },
   "file_extension": ".py",
   "mimetype": "text/x-python",
   "name": "python",
   "nbconvert_exporter": "python",
   "pygments_lexer": "ipython3",
   "version": "3.8.5"
  }
 },
 "nbformat": 4,
 "nbformat_minor": 4
}
