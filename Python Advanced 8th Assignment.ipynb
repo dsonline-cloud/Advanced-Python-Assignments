{
 "cells": [
  {
   "cell_type": "markdown",
   "id": "1d5478ec",
   "metadata": {},
   "source": [
    "**Question No.1** What are the two latest user-defined exception constraints in Python 3.X?"
   ]
  },
  {
   "cell_type": "markdown",
   "id": "ab029ae0",
   "metadata": {},
   "source": [
    "**Ans**\n",
    "\n",
    "Two latest constrants on user defined exceptions are as follows:\n",
    "1. Exceptions must be defined by classes (that is, a class instance object is raised and caught). In addition, exception classes must be derived from the builtin class BaseException. \n",
    "2. When creating a module that can raise several distinct errors, a common practice is to create a base class for exceptions defined by that module, and subclass that to create specific exception classes for different error."
   ]
  },
  {
   "cell_type": "markdown",
   "id": "d6b7b360",
   "metadata": {},
   "source": [
    "**Question No.2** How are class-based exceptions that have been raised matched to handlers?"
   ]
  },
  {
   "cell_type": "markdown",
   "id": "a69d6179",
   "metadata": {},
   "source": [
    "**Ans**\n",
    "\n",
    "Class-based exceptions match by superclass relationships: naming a superclass in an exception handler will catch instances of that class, as well as instances of any of its subclasses lower in the class tree. Because of this, you can think of superclasses as general exception categories and subclasses as more specific types of exceptions within those categories.\n"
   ]
  },
  {
   "cell_type": "markdown",
   "id": "3422e40d",
   "metadata": {},
   "source": [
    "**Question No.3** Describe two methods for attaching context information to exception artefacts."
   ]
  },
  {
   "cell_type": "markdown",
   "id": "60cd5d70",
   "metadata": {},
   "source": [
    "**Ans**\n",
    "\n",
    "The two methods for attaching context information to exception artefacts are as follows:\n",
    "1. You can attach context information to class-based exceptions by filling out instance attributes in the instance object raised, usually in a custom class constructor.\n",
    "2. For simpler needs, built-in exception superclasses provide a constructor that stores its arguments on the instance automatically (as a tuple in the attribute args). In ex\u0002ception handlers, you list a variable to be assigned to the raised instance, then go through this name to access attached state information and call any methods defined in the class."
   ]
  },
  {
   "cell_type": "markdown",
   "id": "913e41cd",
   "metadata": {},
   "source": [
    "**Question No.4** Describe two methods for specifying the text of an exception object's error message."
   ]
  },
  {
   "cell_type": "markdown",
   "id": "545f217e",
   "metadata": {},
   "source": [
    "**Ans**\n",
    "\n",
    "The two methods for specifying the text of an exception object's error message are as follows:\n",
    "1. The error message text in class-based exceptions can be specified with a custom __str__ operator overloading method. \n",
    "2. Built-in exception superclasses automatically display anything you pass to the class constructor. Operations like print and str automatically fetch the display string of an exception object when it is printed either explicitly or as part of an error message."
   ]
  },
  {
   "cell_type": "markdown",
   "id": "2aee42be",
   "metadata": {},
   "source": [
    "**Question No.5** Why do you no longer use string-based exceptions?"
   ]
  },
  {
   "cell_type": "markdown",
   "id": "a671ec62",
   "metadata": {},
   "source": [
    "**Ans**\n",
    "\n",
    "Because Guido said so, they have been removed as of Python 3.0.\n",
    "There are arguably good reasons for this: string-based exceptions did not support categories, state information, or behavior inheritance in the way class-based exceptions do. In practice, this made string-based exceptions easier to use at first\n",
    "when programs were small, but more complex to use as programs grew larger. The downsides of requiring exceptions to be classes are to break existing code, and create a forward knowledge dependency, beginners must first learn classes and\n",
    "OOP before they can code new exceptions, or even truly understand exceptions at all. For better or worse, such dependencies are not uncommon in Python today."
   ]
  }
 ],
 "metadata": {
  "kernelspec": {
   "display_name": "Python 3",
   "language": "python",
   "name": "python3"
  },
  "language_info": {
   "codemirror_mode": {
    "name": "ipython",
    "version": 3
   },
   "file_extension": ".py",
   "mimetype": "text/x-python",
   "name": "python",
   "nbconvert_exporter": "python",
   "pygments_lexer": "ipython3",
   "version": "3.8.8"
  }
 },
 "nbformat": 4,
 "nbformat_minor": 5
}
