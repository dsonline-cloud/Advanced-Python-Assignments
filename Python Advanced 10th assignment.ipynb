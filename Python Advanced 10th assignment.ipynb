{
 "cells": [
  {
   "cell_type": "markdown",
   "id": "b50c3793",
   "metadata": {},
   "source": [
    "**Question No.1** What is the difference between __getattr__ and __getattribute__?"
   ]
  },
  {
   "cell_type": "markdown",
   "id": "97d59492",
   "metadata": {},
   "source": [
    "**Ans**\n",
    "\n",
    "The __getattr__ method is run for fetches of undefined attributes only (i.e., those not present on an instance and not inherited from any of its classes). While the __getattribute__ method is called for every attribut fetch, whether the attribute is defined or not. Because of this, code inside a __getattr__ can freely fetch other attributes if they are defined, whereas __getattribute__ must use special code for all such attribute fetches to avoid looping or extra calls (it must route fetches to a superclass to skip itself). It is invoked before looking at the actual attributes on the object, and so can be tricky to implement correctly. You can end up in infinite recursions very easily."
   ]
  },
  {
   "cell_type": "markdown",
   "id": "7d8bb4f7",
   "metadata": {},
   "source": [
    "**Question No.2** What is the difference between properties and descriptors?"
   ]
  },
  {
   "cell_type": "markdown",
   "id": "ed428fb9",
   "metadata": {},
   "source": [
    "**Ans**\n",
    "\n",
    "Properties serve a specific role, while descriptors are more general. Properties define get, set, and delete functions for a specific attribute; descriptors provide a class with methods for these actions, too, but they provide extra flexibility to supportmore arbitrary actions. \n",
    "In fact, properties are really a simple way to create a specific kind of descriptor—one that runs functions on attribute accesses. Coding differs too: a property is created with a built-in function, and a descriptor is coded with\n",
    "a class; thus, descriptors can leverage all the usual OOP features of classes, such as inheritance. Moreover, in addition to the instance’s state information, descriptors have local state of their own, so they can sometimes avoid name collisions in\n",
    "the instance."
   ]
  },
  {
   "cell_type": "markdown",
   "id": "31b6e41d",
   "metadata": {},
   "source": [
    "**Question No.3** What are the key differences in functionality between __getattr__ and __getattribute__, as well as properties and descriptors?"
   ]
  },
  {
   "cell_type": "markdown",
   "id": "a74bba0a",
   "metadata": {},
   "source": [
    "**Ans**\n",
    "\n",
    "The __getattr__ and __getattribute__ methods are more generic: they can be used to catch arbitrarily many attributes. In contrast, each property or descriptor provides access interception for only one specific attribute—we can’t catch every attribute fetch with a single property or descriptor. On the other hand, properties and descriptors handle both attribute fetch and assignment by design: __getattr__ and __getattribute__ handle fetches only; to intercept assignments as well, __setattr__ must also be coded. The implementation is also different: __getattr__ and __getattribute__ are operator overloading methods. \n",
    "\n",
    "Properties and descriptors are objects manually assigned to class attributes. Unlike thebothers, properties and descriptors can also sometimes avoid extra calls on assignment to unmanaged names, and show up in dir results automatically, but are also narrower in scope—they can’t address generic dispatch goals. In Python evolution, new features tend to offer alternatives, but do not fully subsume what came before."
   ]
  }
 ],
 "metadata": {
  "kernelspec": {
   "display_name": "Python 3",
   "language": "python",
   "name": "python3"
  },
  "language_info": {
   "codemirror_mode": {
    "name": "ipython",
    "version": 3
   },
   "file_extension": ".py",
   "mimetype": "text/x-python",
   "name": "python",
   "nbconvert_exporter": "python",
   "pygments_lexer": "ipython3",
   "version": "3.8.8"
  }
 },
 "nbformat": 4,
 "nbformat_minor": 5
}
