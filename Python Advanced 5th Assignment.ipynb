{
 "cells": [
  {
   "cell_type": "markdown",
   "id": "4aae1052",
   "metadata": {},
   "source": [
    "**Question No.1** What is the meaning of multiple inheritance?"
   ]
  },
  {
   "cell_type": "markdown",
   "id": "844eaf8d",
   "metadata": {},
   "source": [
    "**Ans**\n",
    "\n",
    "Multiple inheritance occurs when a class inherits from more than one superclass, it’s useful for mixing together multiple code blocks of classes. The left to right order in class statement headers determines the general order of attribute searches."
   ]
  },
  {
   "cell_type": "markdown",
   "id": "1aed0f51",
   "metadata": {},
   "source": [
    "**Question No.2** What is the concept of delegation?"
   ]
  },
  {
   "cell_type": "markdown",
   "id": "6e57de45",
   "metadata": {},
   "source": [
    "**Ans**\n",
    "\n",
    "Delegation involves wrapping an object in a proxy class, which adds extra behavior and passes other operations to the wrapped object. The proxy retains the interface of the wrapped object.\n"
   ]
  },
  {
   "cell_type": "markdown",
   "id": "f1e41b0b",
   "metadata": {},
   "source": [
    "**Question No.3** What is the concept of composition?"
   ]
  },
  {
   "cell_type": "markdown",
   "id": "6617fba9",
   "metadata": {},
   "source": [
    "**Ans**\n",
    "\n",
    "Composition is a technique whereby a controller class embeds and directs a num\u0002ber of objects, and provides an interface all its own; it’s a way to build up larger structures with classes."
   ]
  },
  {
   "cell_type": "markdown",
   "id": "64b44ca4",
   "metadata": {},
   "source": [
    "**Question No.4** What are bound methods and how do we use them?"
   ]
  },
  {
   "cell_type": "markdown",
   "id": "b4488644",
   "metadata": {},
   "source": [
    "**Ans**\n",
    "\n",
    "Bound methods combine an instance and a method function; you can call them without passing in an instance object explicitly because the original instance is still available."
   ]
  },
  {
   "cell_type": "markdown",
   "id": "edd6a2f0",
   "metadata": {},
   "source": [
    "**Question No.5** What is the purpose of pseudoprivate attributes?"
   ]
  },
  {
   "cell_type": "markdown",
   "id": "8b0e6232",
   "metadata": {},
   "source": [
    "**Ans**\n",
    "\n",
    "Pseudoprivate attributes (whose names begin but do not end with two leading underscores: __attri) are used to localize names to the enclosing class. This includes both class attributes like methods defined inside the class, and self instance attributes assigned inside the class's methods. Such names are expanded to include the class name, which makes them generally unique."
   ]
  }
 ],
 "metadata": {
  "kernelspec": {
   "display_name": "Python 3",
   "language": "python",
   "name": "python3"
  },
  "language_info": {
   "codemirror_mode": {
    "name": "ipython",
    "version": 3
   },
   "file_extension": ".py",
   "mimetype": "text/x-python",
   "name": "python",
   "nbconvert_exporter": "python",
   "pygments_lexer": "ipython3",
   "version": "3.8.8"
  }
 },
 "nbformat": 4,
 "nbformat_minor": 5
}
